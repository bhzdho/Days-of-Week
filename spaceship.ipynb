{
 "cells": [
  {
   "cell_type": "code",
   "execution_count": 1,
   "id": "6c78ceae",
   "metadata": {
    "_cell_guid": "b1076dfc-b9ad-4769-8c92-a6c4dae69d19",
    "_uuid": "8f2839f25d086af736a60e9eeb907d3b93b6e0e5",
    "execution": {
     "iopub.execute_input": "2024-05-26T15:31:11.980099Z",
     "iopub.status.busy": "2024-05-26T15:31:11.979682Z",
     "iopub.status.idle": "2024-05-26T15:31:12.759958Z",
     "shell.execute_reply": "2024-05-26T15:31:12.758882Z"
    },
    "papermill": {
     "duration": 0.790611,
     "end_time": "2024-05-26T15:31:12.762285",
     "exception": false,
     "start_time": "2024-05-26T15:31:11.971674",
     "status": "completed"
    },
    "tags": []
   },
   "outputs": [
    {
     "name": "stdout",
     "output_type": "stream",
     "text": [
      "/kaggle/input/spaceship-titanic/sample_submission.csv\n",
      "/kaggle/input/spaceship-titanic/train.csv\n",
      "/kaggle/input/spaceship-titanic/test.csv\n"
     ]
    }
   ],
   "source": [
    "# This Python 3 environment comes with many helpful analytics libraries installed\n",
    "# It is defined by the kaggle/python Docker image: https://github.com/kaggle/docker-python\n",
    "# For example, here's several helpful packages to load\n",
    "\n",
    "import numpy as np # linear algebra\n",
    "import pandas as pd # data processing, CSV file I/O (e.g. pd.read_csv)\n",
    "\n",
    "# Input data files are available in the read-only \"../input/\" directory\n",
    "# For example, running this (by clicking run or pressing Shift+Enter) will list all files under the input directory\n",
    "\n",
    "import os\n",
    "for dirname, _, filenames in os.walk('/kaggle/input'):\n",
    "    for filename in filenames:\n",
    "        print(os.path.join(dirname, filename))\n",
    "\n",
    "# You can write up to 20GB to the current directory (/kaggle/working/) that gets preserved as output when you create a version using \"Save & Run All\" \n",
    "# You can also write temporary files to /kaggle/temp/, but they won't be saved outside of the current session"
   ]
  },
  {
   "cell_type": "markdown",
   "id": "e25a0bdc",
   "metadata": {
    "papermill": {
     "duration": 0.00615,
     "end_time": "2024-05-26T15:31:12.775214",
     "exception": false,
     "start_time": "2024-05-26T15:31:12.769064",
     "status": "completed"
    },
    "tags": []
   },
   "source": [
    "# **Load Data**"
   ]
  },
  {
   "cell_type": "code",
   "execution_count": 2,
   "id": "e153b647",
   "metadata": {
    "execution": {
     "iopub.execute_input": "2024-05-26T15:31:12.788930Z",
     "iopub.status.busy": "2024-05-26T15:31:12.788428Z",
     "iopub.status.idle": "2024-05-26T15:31:12.871655Z",
     "shell.execute_reply": "2024-05-26T15:31:12.870593Z"
    },
    "papermill": {
     "duration": 0.092832,
     "end_time": "2024-05-26T15:31:12.874105",
     "exception": false,
     "start_time": "2024-05-26T15:31:12.781273",
     "status": "completed"
    },
    "tags": []
   },
   "outputs": [
    {
     "data": {
      "text/html": [
       "<div>\n",
       "<style scoped>\n",
       "    .dataframe tbody tr th:only-of-type {\n",
       "        vertical-align: middle;\n",
       "    }\n",
       "\n",
       "    .dataframe tbody tr th {\n",
       "        vertical-align: top;\n",
       "    }\n",
       "\n",
       "    .dataframe thead th {\n",
       "        text-align: right;\n",
       "    }\n",
       "</style>\n",
       "<table border=\"1\" class=\"dataframe\">\n",
       "  <thead>\n",
       "    <tr style=\"text-align: right;\">\n",
       "      <th></th>\n",
       "      <th>PassengerId</th>\n",
       "      <th>HomePlanet</th>\n",
       "      <th>CryoSleep</th>\n",
       "      <th>Cabin</th>\n",
       "      <th>Destination</th>\n",
       "      <th>Age</th>\n",
       "      <th>VIP</th>\n",
       "      <th>RoomService</th>\n",
       "      <th>FoodCourt</th>\n",
       "      <th>ShoppingMall</th>\n",
       "      <th>Spa</th>\n",
       "      <th>VRDeck</th>\n",
       "      <th>Name</th>\n",
       "      <th>Transported</th>\n",
       "    </tr>\n",
       "  </thead>\n",
       "  <tbody>\n",
       "    <tr>\n",
       "      <th>0</th>\n",
       "      <td>0001_01</td>\n",
       "      <td>Europa</td>\n",
       "      <td>False</td>\n",
       "      <td>B/0/P</td>\n",
       "      <td>TRAPPIST-1e</td>\n",
       "      <td>39.0</td>\n",
       "      <td>False</td>\n",
       "      <td>0.0</td>\n",
       "      <td>0.0</td>\n",
       "      <td>0.0</td>\n",
       "      <td>0.0</td>\n",
       "      <td>0.0</td>\n",
       "      <td>Maham Ofracculy</td>\n",
       "      <td>False</td>\n",
       "    </tr>\n",
       "    <tr>\n",
       "      <th>1</th>\n",
       "      <td>0002_01</td>\n",
       "      <td>Earth</td>\n",
       "      <td>False</td>\n",
       "      <td>F/0/S</td>\n",
       "      <td>TRAPPIST-1e</td>\n",
       "      <td>24.0</td>\n",
       "      <td>False</td>\n",
       "      <td>109.0</td>\n",
       "      <td>9.0</td>\n",
       "      <td>25.0</td>\n",
       "      <td>549.0</td>\n",
       "      <td>44.0</td>\n",
       "      <td>Juanna Vines</td>\n",
       "      <td>True</td>\n",
       "    </tr>\n",
       "    <tr>\n",
       "      <th>2</th>\n",
       "      <td>0003_01</td>\n",
       "      <td>Europa</td>\n",
       "      <td>False</td>\n",
       "      <td>A/0/S</td>\n",
       "      <td>TRAPPIST-1e</td>\n",
       "      <td>58.0</td>\n",
       "      <td>True</td>\n",
       "      <td>43.0</td>\n",
       "      <td>3576.0</td>\n",
       "      <td>0.0</td>\n",
       "      <td>6715.0</td>\n",
       "      <td>49.0</td>\n",
       "      <td>Altark Susent</td>\n",
       "      <td>False</td>\n",
       "    </tr>\n",
       "  </tbody>\n",
       "</table>\n",
       "</div>"
      ],
      "text/plain": [
       "  PassengerId HomePlanet CryoSleep  Cabin  Destination   Age    VIP  \\\n",
       "0     0001_01     Europa     False  B/0/P  TRAPPIST-1e  39.0  False   \n",
       "1     0002_01      Earth     False  F/0/S  TRAPPIST-1e  24.0  False   \n",
       "2     0003_01     Europa     False  A/0/S  TRAPPIST-1e  58.0   True   \n",
       "\n",
       "   RoomService  FoodCourt  ShoppingMall     Spa  VRDeck             Name  \\\n",
       "0          0.0        0.0           0.0     0.0     0.0  Maham Ofracculy   \n",
       "1        109.0        9.0          25.0   549.0    44.0     Juanna Vines   \n",
       "2         43.0     3576.0           0.0  6715.0    49.0    Altark Susent   \n",
       "\n",
       "   Transported  \n",
       "0        False  \n",
       "1         True  \n",
       "2        False  "
      ]
     },
     "execution_count": 2,
     "metadata": {},
     "output_type": "execute_result"
    }
   ],
   "source": [
    "df = pd.read_csv('/kaggle/input/spaceship-titanic/train.csv')\n",
    "df.head(3)"
   ]
  },
  {
   "cell_type": "code",
   "execution_count": 3,
   "id": "96cc9cd8",
   "metadata": {
    "execution": {
     "iopub.execute_input": "2024-05-26T15:31:12.889287Z",
     "iopub.status.busy": "2024-05-26T15:31:12.888169Z",
     "iopub.status.idle": "2024-05-26T15:31:12.893989Z",
     "shell.execute_reply": "2024-05-26T15:31:12.892767Z"
    },
    "papermill": {
     "duration": 0.015433,
     "end_time": "2024-05-26T15:31:12.896064",
     "exception": false,
     "start_time": "2024-05-26T15:31:12.880631",
     "status": "completed"
    },
    "tags": []
   },
   "outputs": [
    {
     "name": "stdout",
     "output_type": "stream",
     "text": [
      "DataFrame of SpaceShip value is ((8693, 14))\n"
     ]
    }
   ],
   "source": [
    "print(f\"DataFrame of SpaceShip value is ({df.shape})\")"
   ]
  },
  {
   "cell_type": "markdown",
   "id": "1b17e612",
   "metadata": {
    "papermill": {
     "duration": 0.006325,
     "end_time": "2024-05-26T15:31:12.908729",
     "exception": false,
     "start_time": "2024-05-26T15:31:12.902404",
     "status": "completed"
    },
    "tags": []
   },
   "source": [
    "***Data separation***"
   ]
  },
  {
   "cell_type": "code",
   "execution_count": 4,
   "id": "ae0da702",
   "metadata": {
    "execution": {
     "iopub.execute_input": "2024-05-26T15:31:12.923310Z",
     "iopub.status.busy": "2024-05-26T15:31:12.922565Z",
     "iopub.status.idle": "2024-05-26T15:31:12.938152Z",
     "shell.execute_reply": "2024-05-26T15:31:12.937226Z"
    },
    "papermill": {
     "duration": 0.025236,
     "end_time": "2024-05-26T15:31:12.940265",
     "exception": false,
     "start_time": "2024-05-26T15:31:12.915029",
     "status": "completed"
    },
    "tags": []
   },
   "outputs": [],
   "source": [
    "Y = df['Transported']       # Use of Y for fit Y train in model\n",
    "Y = Y.map({False:0,True:1}) # change bool value to num 0,1\n",
    "df = df.drop(labels=['PassengerId','Name','Transported'],axis='columns')"
   ]
  },
  {
   "cell_type": "code",
   "execution_count": 5,
   "id": "f6450187",
   "metadata": {
    "execution": {
     "iopub.execute_input": "2024-05-26T15:31:12.955487Z",
     "iopub.status.busy": "2024-05-26T15:31:12.954487Z",
     "iopub.status.idle": "2024-05-26T15:31:12.960640Z",
     "shell.execute_reply": "2024-05-26T15:31:12.959561Z"
    },
    "papermill": {
     "duration": 0.015795,
     "end_time": "2024-05-26T15:31:12.962650",
     "exception": false,
     "start_time": "2024-05-26T15:31:12.946855",
     "status": "completed"
    },
    "tags": []
   },
   "outputs": [
    {
     "name": "stdout",
     "output_type": "stream",
     "text": [
      "this is all format in list of data => [dtype('float64'), dtype('O')]\n"
     ]
    }
   ],
   "source": [
    "types = list(set(df.dtypes.tolist()))\n",
    "print(f\"this is all format in list of data => {types}\")"
   ]
  },
  {
   "cell_type": "code",
   "execution_count": 6,
   "id": "d25a9d67",
   "metadata": {
    "execution": {
     "iopub.execute_input": "2024-05-26T15:31:12.977225Z",
     "iopub.status.busy": "2024-05-26T15:31:12.976881Z",
     "iopub.status.idle": "2024-05-26T15:31:12.993881Z",
     "shell.execute_reply": "2024-05-26T15:31:12.992878Z"
    },
    "papermill": {
     "duration": 0.02704,
     "end_time": "2024-05-26T15:31:12.996191",
     "exception": false,
     "start_time": "2024-05-26T15:31:12.969151",
     "status": "completed"
    },
    "tags": []
   },
   "outputs": [
    {
     "data": {
      "text/html": [
       "<div>\n",
       "<style scoped>\n",
       "    .dataframe tbody tr th:only-of-type {\n",
       "        vertical-align: middle;\n",
       "    }\n",
       "\n",
       "    .dataframe tbody tr th {\n",
       "        vertical-align: top;\n",
       "    }\n",
       "\n",
       "    .dataframe thead th {\n",
       "        text-align: right;\n",
       "    }\n",
       "</style>\n",
       "<table border=\"1\" class=\"dataframe\">\n",
       "  <thead>\n",
       "    <tr style=\"text-align: right;\">\n",
       "      <th></th>\n",
       "      <th>Age</th>\n",
       "      <th>RoomService</th>\n",
       "      <th>FoodCourt</th>\n",
       "      <th>ShoppingMall</th>\n",
       "      <th>Spa</th>\n",
       "      <th>VRDeck</th>\n",
       "    </tr>\n",
       "  </thead>\n",
       "  <tbody>\n",
       "    <tr>\n",
       "      <th>0</th>\n",
       "      <td>39.0</td>\n",
       "      <td>0.0</td>\n",
       "      <td>0.0</td>\n",
       "      <td>0.0</td>\n",
       "      <td>0.0</td>\n",
       "      <td>0.0</td>\n",
       "    </tr>\n",
       "    <tr>\n",
       "      <th>1</th>\n",
       "      <td>24.0</td>\n",
       "      <td>109.0</td>\n",
       "      <td>9.0</td>\n",
       "      <td>25.0</td>\n",
       "      <td>549.0</td>\n",
       "      <td>44.0</td>\n",
       "    </tr>\n",
       "    <tr>\n",
       "      <th>2</th>\n",
       "      <td>58.0</td>\n",
       "      <td>43.0</td>\n",
       "      <td>3576.0</td>\n",
       "      <td>0.0</td>\n",
       "      <td>6715.0</td>\n",
       "      <td>49.0</td>\n",
       "    </tr>\n",
       "    <tr>\n",
       "      <th>3</th>\n",
       "      <td>33.0</td>\n",
       "      <td>0.0</td>\n",
       "      <td>1283.0</td>\n",
       "      <td>371.0</td>\n",
       "      <td>3329.0</td>\n",
       "      <td>193.0</td>\n",
       "    </tr>\n",
       "    <tr>\n",
       "      <th>4</th>\n",
       "      <td>16.0</td>\n",
       "      <td>303.0</td>\n",
       "      <td>70.0</td>\n",
       "      <td>151.0</td>\n",
       "      <td>565.0</td>\n",
       "      <td>2.0</td>\n",
       "    </tr>\n",
       "  </tbody>\n",
       "</table>\n",
       "</div>"
      ],
      "text/plain": [
       "    Age  RoomService  FoodCourt  ShoppingMall     Spa  VRDeck\n",
       "0  39.0          0.0        0.0           0.0     0.0     0.0\n",
       "1  24.0        109.0        9.0          25.0   549.0    44.0\n",
       "2  58.0         43.0     3576.0           0.0  6715.0    49.0\n",
       "3  33.0          0.0     1283.0         371.0  3329.0   193.0\n",
       "4  16.0        303.0       70.0         151.0   565.0     2.0"
      ]
     },
     "execution_count": 6,
     "metadata": {},
     "output_type": "execute_result"
    }
   ],
   "source": [
    "#this part I break dataframe 2 section , numerical & object\n",
    "\n",
    "df_num = df.select_dtypes(include='float64')\n",
    "df_num = df_num.fillna(0)\n",
    "\n",
    "df_num.head()"
   ]
  },
  {
   "cell_type": "code",
   "execution_count": 7,
   "id": "5475f074",
   "metadata": {
    "execution": {
     "iopub.execute_input": "2024-05-26T15:31:13.012274Z",
     "iopub.status.busy": "2024-05-26T15:31:13.011899Z",
     "iopub.status.idle": "2024-05-26T15:31:14.048288Z",
     "shell.execute_reply": "2024-05-26T15:31:14.047022Z"
    },
    "papermill": {
     "duration": 1.04683,
     "end_time": "2024-05-26T15:31:14.050789",
     "exception": false,
     "start_time": "2024-05-26T15:31:13.003959",
     "status": "completed"
    },
    "tags": []
   },
   "outputs": [
    {
     "data": {
      "text/html": [
       "<div>\n",
       "<style scoped>\n",
       "    .dataframe tbody tr th:only-of-type {\n",
       "        vertical-align: middle;\n",
       "    }\n",
       "\n",
       "    .dataframe tbody tr th {\n",
       "        vertical-align: top;\n",
       "    }\n",
       "\n",
       "    .dataframe thead th {\n",
       "        text-align: right;\n",
       "    }\n",
       "</style>\n",
       "<table border=\"1\" class=\"dataframe\">\n",
       "  <thead>\n",
       "    <tr style=\"text-align: right;\">\n",
       "      <th></th>\n",
       "      <th>HomePlanet</th>\n",
       "      <th>CryoSleep</th>\n",
       "      <th>Cabin</th>\n",
       "      <th>Destination</th>\n",
       "      <th>VIP</th>\n",
       "    </tr>\n",
       "  </thead>\n",
       "  <tbody>\n",
       "    <tr>\n",
       "      <th>0</th>\n",
       "      <td>1</td>\n",
       "      <td>0</td>\n",
       "      <td>149</td>\n",
       "      <td>2</td>\n",
       "      <td>0</td>\n",
       "    </tr>\n",
       "    <tr>\n",
       "      <th>1</th>\n",
       "      <td>0</td>\n",
       "      <td>0</td>\n",
       "      <td>2184</td>\n",
       "      <td>2</td>\n",
       "      <td>0</td>\n",
       "    </tr>\n",
       "    <tr>\n",
       "      <th>2</th>\n",
       "      <td>1</td>\n",
       "      <td>0</td>\n",
       "      <td>1</td>\n",
       "      <td>2</td>\n",
       "      <td>1</td>\n",
       "    </tr>\n",
       "    <tr>\n",
       "      <th>3</th>\n",
       "      <td>1</td>\n",
       "      <td>0</td>\n",
       "      <td>1</td>\n",
       "      <td>2</td>\n",
       "      <td>0</td>\n",
       "    </tr>\n",
       "    <tr>\n",
       "      <th>4</th>\n",
       "      <td>0</td>\n",
       "      <td>0</td>\n",
       "      <td>2186</td>\n",
       "      <td>2</td>\n",
       "      <td>0</td>\n",
       "    </tr>\n",
       "  </tbody>\n",
       "</table>\n",
       "</div>"
      ],
      "text/plain": [
       "   HomePlanet  CryoSleep  Cabin  Destination  VIP\n",
       "0           1          0    149            2    0\n",
       "1           0          0   2184            2    0\n",
       "2           1          0      1            2    1\n",
       "3           1          0      1            2    0\n",
       "4           0          0   2186            2    0"
      ]
     },
     "execution_count": 7,
     "metadata": {},
     "output_type": "execute_result"
    }
   ],
   "source": [
    "df_obj = df.select_dtypes(include='O')\n",
    "\n",
    "from sklearn.preprocessing import LabelEncoder\n",
    "\n",
    "le = LabelEncoder()\n",
    "df_obj = df_obj.apply(le.fit_transform)\n",
    "\n",
    "df_obj.head()\n"
   ]
  },
  {
   "cell_type": "code",
   "execution_count": 8,
   "id": "ef558e83",
   "metadata": {
    "execution": {
     "iopub.execute_input": "2024-05-26T15:31:14.066357Z",
     "iopub.status.busy": "2024-05-26T15:31:14.065990Z",
     "iopub.status.idle": "2024-05-26T15:31:14.084332Z",
     "shell.execute_reply": "2024-05-26T15:31:14.083176Z"
    },
    "papermill": {
     "duration": 0.028786,
     "end_time": "2024-05-26T15:31:14.086535",
     "exception": false,
     "start_time": "2024-05-26T15:31:14.057749",
     "status": "completed"
    },
    "tags": []
   },
   "outputs": [
    {
     "data": {
      "text/html": [
       "<div>\n",
       "<style scoped>\n",
       "    .dataframe tbody tr th:only-of-type {\n",
       "        vertical-align: middle;\n",
       "    }\n",
       "\n",
       "    .dataframe tbody tr th {\n",
       "        vertical-align: top;\n",
       "    }\n",
       "\n",
       "    .dataframe thead th {\n",
       "        text-align: right;\n",
       "    }\n",
       "</style>\n",
       "<table border=\"1\" class=\"dataframe\">\n",
       "  <thead>\n",
       "    <tr style=\"text-align: right;\">\n",
       "      <th></th>\n",
       "      <th>Age</th>\n",
       "      <th>RoomService</th>\n",
       "      <th>FoodCourt</th>\n",
       "      <th>ShoppingMall</th>\n",
       "      <th>Spa</th>\n",
       "      <th>VRDeck</th>\n",
       "      <th>HomePlanet</th>\n",
       "      <th>CryoSleep</th>\n",
       "      <th>Cabin</th>\n",
       "      <th>Destination</th>\n",
       "      <th>VIP</th>\n",
       "    </tr>\n",
       "  </thead>\n",
       "  <tbody>\n",
       "    <tr>\n",
       "      <th>0</th>\n",
       "      <td>39.0</td>\n",
       "      <td>0.0</td>\n",
       "      <td>0.0</td>\n",
       "      <td>0.0</td>\n",
       "      <td>0.0</td>\n",
       "      <td>0.0</td>\n",
       "      <td>1</td>\n",
       "      <td>0</td>\n",
       "      <td>149</td>\n",
       "      <td>2</td>\n",
       "      <td>0</td>\n",
       "    </tr>\n",
       "    <tr>\n",
       "      <th>1</th>\n",
       "      <td>24.0</td>\n",
       "      <td>109.0</td>\n",
       "      <td>9.0</td>\n",
       "      <td>25.0</td>\n",
       "      <td>549.0</td>\n",
       "      <td>44.0</td>\n",
       "      <td>0</td>\n",
       "      <td>0</td>\n",
       "      <td>2184</td>\n",
       "      <td>2</td>\n",
       "      <td>0</td>\n",
       "    </tr>\n",
       "    <tr>\n",
       "      <th>2</th>\n",
       "      <td>58.0</td>\n",
       "      <td>43.0</td>\n",
       "      <td>3576.0</td>\n",
       "      <td>0.0</td>\n",
       "      <td>6715.0</td>\n",
       "      <td>49.0</td>\n",
       "      <td>1</td>\n",
       "      <td>0</td>\n",
       "      <td>1</td>\n",
       "      <td>2</td>\n",
       "      <td>1</td>\n",
       "    </tr>\n",
       "    <tr>\n",
       "      <th>3</th>\n",
       "      <td>33.0</td>\n",
       "      <td>0.0</td>\n",
       "      <td>1283.0</td>\n",
       "      <td>371.0</td>\n",
       "      <td>3329.0</td>\n",
       "      <td>193.0</td>\n",
       "      <td>1</td>\n",
       "      <td>0</td>\n",
       "      <td>1</td>\n",
       "      <td>2</td>\n",
       "      <td>0</td>\n",
       "    </tr>\n",
       "    <tr>\n",
       "      <th>4</th>\n",
       "      <td>16.0</td>\n",
       "      <td>303.0</td>\n",
       "      <td>70.0</td>\n",
       "      <td>151.0</td>\n",
       "      <td>565.0</td>\n",
       "      <td>2.0</td>\n",
       "      <td>0</td>\n",
       "      <td>0</td>\n",
       "      <td>2186</td>\n",
       "      <td>2</td>\n",
       "      <td>0</td>\n",
       "    </tr>\n",
       "  </tbody>\n",
       "</table>\n",
       "</div>"
      ],
      "text/plain": [
       "    Age  RoomService  FoodCourt  ShoppingMall     Spa  VRDeck  HomePlanet  \\\n",
       "0  39.0          0.0        0.0           0.0     0.0     0.0           1   \n",
       "1  24.0        109.0        9.0          25.0   549.0    44.0           0   \n",
       "2  58.0         43.0     3576.0           0.0  6715.0    49.0           1   \n",
       "3  33.0          0.0     1283.0         371.0  3329.0   193.0           1   \n",
       "4  16.0        303.0       70.0         151.0   565.0     2.0           0   \n",
       "\n",
       "   CryoSleep  Cabin  Destination  VIP  \n",
       "0          0    149            2    0  \n",
       "1          0   2184            2    0  \n",
       "2          0      1            2    1  \n",
       "3          0      1            2    0  \n",
       "4          0   2186            2    0  "
      ]
     },
     "execution_count": 8,
     "metadata": {},
     "output_type": "execute_result"
    }
   ],
   "source": [
    "df = pd.concat([df_num,df_obj],axis='columns')\n",
    "\n",
    "df.head()"
   ]
  },
  {
   "cell_type": "markdown",
   "id": "bd722dde",
   "metadata": {
    "papermill": {
     "duration": 0.006876,
     "end_time": "2024-05-26T15:31:14.100736",
     "exception": false,
     "start_time": "2024-05-26T15:31:14.093860",
     "status": "completed"
    },
    "tags": []
   },
   "source": [
    "# **Preprocessing**"
   ]
  },
  {
   "cell_type": "markdown",
   "id": "cdce87f3",
   "metadata": {
    "papermill": {
     "duration": 0.006944,
     "end_time": "2024-05-26T15:31:14.116086",
     "exception": false,
     "start_time": "2024-05-26T15:31:14.109142",
     "status": "completed"
    },
    "tags": []
   },
   "source": [
    "***Normalize***"
   ]
  },
  {
   "cell_type": "code",
   "execution_count": 9,
   "id": "0c5889bc",
   "metadata": {
    "execution": {
     "iopub.execute_input": "2024-05-26T15:31:14.132641Z",
     "iopub.status.busy": "2024-05-26T15:31:14.131551Z",
     "iopub.status.idle": "2024-05-26T15:31:14.141707Z",
     "shell.execute_reply": "2024-05-26T15:31:14.140834Z"
    },
    "papermill": {
     "duration": 0.020892,
     "end_time": "2024-05-26T15:31:14.144099",
     "exception": false,
     "start_time": "2024-05-26T15:31:14.123207",
     "status": "completed"
    },
    "tags": []
   },
   "outputs": [],
   "source": [
    "from sklearn.preprocessing import Normalizer\n",
    "\n",
    "scaler = Normalizer()\n",
    "X = scaler.fit_transform(df)"
   ]
  },
  {
   "cell_type": "markdown",
   "id": "7328df2b",
   "metadata": {
    "papermill": {
     "duration": 0.007104,
     "end_time": "2024-05-26T15:31:14.158460",
     "exception": false,
     "start_time": "2024-05-26T15:31:14.151356",
     "status": "completed"
    },
    "tags": []
   },
   "source": [
    "***Splite data to Train / Test***"
   ]
  },
  {
   "cell_type": "code",
   "execution_count": 10,
   "id": "e3fcab71",
   "metadata": {
    "execution": {
     "iopub.execute_input": "2024-05-26T15:31:14.174884Z",
     "iopub.status.busy": "2024-05-26T15:31:14.174097Z",
     "iopub.status.idle": "2024-05-26T15:31:14.282922Z",
     "shell.execute_reply": "2024-05-26T15:31:14.281603Z"
    },
    "papermill": {
     "duration": 0.119942,
     "end_time": "2024-05-26T15:31:14.285606",
     "exception": false,
     "start_time": "2024-05-26T15:31:14.165664",
     "status": "completed"
    },
    "tags": []
   },
   "outputs": [],
   "source": [
    "from sklearn.model_selection import train_test_split\n",
    "\n",
    "x_train , x_test , y_train , y_test = train_test_split(X,Y , test_size=0.3)"
   ]
  },
  {
   "cell_type": "markdown",
   "id": "728100a5",
   "metadata": {
    "papermill": {
     "duration": 0.007477,
     "end_time": "2024-05-26T15:31:14.300445",
     "exception": false,
     "start_time": "2024-05-26T15:31:14.292968",
     "status": "completed"
    },
    "tags": []
   },
   "source": [
    "# **Create Model**"
   ]
  },
  {
   "cell_type": "markdown",
   "id": "7543d603",
   "metadata": {
    "papermill": {
     "duration": 0.007271,
     "end_time": "2024-05-26T15:31:14.315184",
     "exception": false,
     "start_time": "2024-05-26T15:31:14.307913",
     "status": "completed"
    },
    "tags": []
   },
   "source": [
    "***DecisionTree Model***"
   ]
  },
  {
   "cell_type": "code",
   "execution_count": 11,
   "id": "f5f193e2",
   "metadata": {
    "execution": {
     "iopub.execute_input": "2024-05-26T15:31:14.331937Z",
     "iopub.status.busy": "2024-05-26T15:31:14.331168Z",
     "iopub.status.idle": "2024-05-26T15:31:14.631149Z",
     "shell.execute_reply": "2024-05-26T15:31:14.630162Z"
    },
    "papermill": {
     "duration": 0.310723,
     "end_time": "2024-05-26T15:31:14.633268",
     "exception": false,
     "start_time": "2024-05-26T15:31:14.322545",
     "status": "completed"
    },
    "scrolled": true,
    "tags": []
   },
   "outputs": [
    {
     "data": {
      "text/html": [
       "<style>#sk-container-id-1 {color: black;background-color: white;}#sk-container-id-1 pre{padding: 0;}#sk-container-id-1 div.sk-toggleable {background-color: white;}#sk-container-id-1 label.sk-toggleable__label {cursor: pointer;display: block;width: 100%;margin-bottom: 0;padding: 0.3em;box-sizing: border-box;text-align: center;}#sk-container-id-1 label.sk-toggleable__label-arrow:before {content: \"▸\";float: left;margin-right: 0.25em;color: #696969;}#sk-container-id-1 label.sk-toggleable__label-arrow:hover:before {color: black;}#sk-container-id-1 div.sk-estimator:hover label.sk-toggleable__label-arrow:before {color: black;}#sk-container-id-1 div.sk-toggleable__content {max-height: 0;max-width: 0;overflow: hidden;text-align: left;background-color: #f0f8ff;}#sk-container-id-1 div.sk-toggleable__content pre {margin: 0.2em;color: black;border-radius: 0.25em;background-color: #f0f8ff;}#sk-container-id-1 input.sk-toggleable__control:checked~div.sk-toggleable__content {max-height: 200px;max-width: 100%;overflow: auto;}#sk-container-id-1 input.sk-toggleable__control:checked~label.sk-toggleable__label-arrow:before {content: \"▾\";}#sk-container-id-1 div.sk-estimator input.sk-toggleable__control:checked~label.sk-toggleable__label {background-color: #d4ebff;}#sk-container-id-1 div.sk-label input.sk-toggleable__control:checked~label.sk-toggleable__label {background-color: #d4ebff;}#sk-container-id-1 input.sk-hidden--visually {border: 0;clip: rect(1px 1px 1px 1px);clip: rect(1px, 1px, 1px, 1px);height: 1px;margin: -1px;overflow: hidden;padding: 0;position: absolute;width: 1px;}#sk-container-id-1 div.sk-estimator {font-family: monospace;background-color: #f0f8ff;border: 1px dotted black;border-radius: 0.25em;box-sizing: border-box;margin-bottom: 0.5em;}#sk-container-id-1 div.sk-estimator:hover {background-color: #d4ebff;}#sk-container-id-1 div.sk-parallel-item::after {content: \"\";width: 100%;border-bottom: 1px solid gray;flex-grow: 1;}#sk-container-id-1 div.sk-label:hover label.sk-toggleable__label {background-color: #d4ebff;}#sk-container-id-1 div.sk-serial::before {content: \"\";position: absolute;border-left: 1px solid gray;box-sizing: border-box;top: 0;bottom: 0;left: 50%;z-index: 0;}#sk-container-id-1 div.sk-serial {display: flex;flex-direction: column;align-items: center;background-color: white;padding-right: 0.2em;padding-left: 0.2em;position: relative;}#sk-container-id-1 div.sk-item {position: relative;z-index: 1;}#sk-container-id-1 div.sk-parallel {display: flex;align-items: stretch;justify-content: center;background-color: white;position: relative;}#sk-container-id-1 div.sk-item::before, #sk-container-id-1 div.sk-parallel-item::before {content: \"\";position: absolute;border-left: 1px solid gray;box-sizing: border-box;top: 0;bottom: 0;left: 50%;z-index: -1;}#sk-container-id-1 div.sk-parallel-item {display: flex;flex-direction: column;z-index: 1;position: relative;background-color: white;}#sk-container-id-1 div.sk-parallel-item:first-child::after {align-self: flex-end;width: 50%;}#sk-container-id-1 div.sk-parallel-item:last-child::after {align-self: flex-start;width: 50%;}#sk-container-id-1 div.sk-parallel-item:only-child::after {width: 0;}#sk-container-id-1 div.sk-dashed-wrapped {border: 1px dashed gray;margin: 0 0.4em 0.5em 0.4em;box-sizing: border-box;padding-bottom: 0.4em;background-color: white;}#sk-container-id-1 div.sk-label label {font-family: monospace;font-weight: bold;display: inline-block;line-height: 1.2em;}#sk-container-id-1 div.sk-label-container {text-align: center;}#sk-container-id-1 div.sk-container {/* jupyter's `normalize.less` sets `[hidden] { display: none; }` but bootstrap.min.css set `[hidden] { display: none !important; }` so we also need the `!important` here to be able to override the default hidden behavior on the sphinx rendered scikit-learn.org. See: https://github.com/scikit-learn/scikit-learn/issues/21755 */display: inline-block !important;position: relative;}#sk-container-id-1 div.sk-text-repr-fallback {display: none;}</style><div id=\"sk-container-id-1\" class=\"sk-top-container\"><div class=\"sk-text-repr-fallback\"><pre>DecisionTreeClassifier(max_depth=10, min_samples_leaf=2)</pre><b>In a Jupyter environment, please rerun this cell to show the HTML representation or trust the notebook. <br />On GitHub, the HTML representation is unable to render, please try loading this page with nbviewer.org.</b></div><div class=\"sk-container\" hidden><div class=\"sk-item\"><div class=\"sk-estimator sk-toggleable\"><input class=\"sk-toggleable__control sk-hidden--visually\" id=\"sk-estimator-id-1\" type=\"checkbox\" checked><label for=\"sk-estimator-id-1\" class=\"sk-toggleable__label sk-toggleable__label-arrow\">DecisionTreeClassifier</label><div class=\"sk-toggleable__content\"><pre>DecisionTreeClassifier(max_depth=10, min_samples_leaf=2)</pre></div></div></div></div></div>"
      ],
      "text/plain": [
       "DecisionTreeClassifier(max_depth=10, min_samples_leaf=2)"
      ]
     },
     "execution_count": 11,
     "metadata": {},
     "output_type": "execute_result"
    }
   ],
   "source": [
    "from sklearn.tree import DecisionTreeClassifier\n",
    "\n",
    "model_tree = DecisionTreeClassifier(criterion='gini',max_depth=10,min_samples_leaf=2)\n",
    "model_tree.fit(x_train,y_train)"
   ]
  },
  {
   "cell_type": "code",
   "execution_count": 12,
   "id": "989f0125",
   "metadata": {
    "execution": {
     "iopub.execute_input": "2024-05-26T15:31:14.650869Z",
     "iopub.status.busy": "2024-05-26T15:31:14.649923Z",
     "iopub.status.idle": "2024-05-26T15:31:14.658268Z",
     "shell.execute_reply": "2024-05-26T15:31:14.657222Z"
    },
    "papermill": {
     "duration": 0.019384,
     "end_time": "2024-05-26T15:31:14.660313",
     "exception": false,
     "start_time": "2024-05-26T15:31:14.640929",
     "status": "completed"
    },
    "tags": []
   },
   "outputs": [
    {
     "name": "stdout",
     "output_type": "stream",
     "text": [
      "Accuracy score for Decision Model is --> 0.7707055214723927 \n"
     ]
    }
   ],
   "source": [
    "pred_tree = model_tree.predict(x_test)\n",
    "from sklearn.metrics import accuracy_score\n",
    "\n",
    "acc_tree = accuracy_score(y_true=y_test , y_pred=pred_tree)\n",
    "print(f\"Accuracy score for Decision Model is --> {acc_tree} \")"
   ]
  },
  {
   "cell_type": "code",
   "execution_count": 13,
   "id": "9a592b4b",
   "metadata": {
    "execution": {
     "iopub.execute_input": "2024-05-26T15:31:14.678092Z",
     "iopub.status.busy": "2024-05-26T15:31:14.677143Z",
     "iopub.status.idle": "2024-05-26T15:31:15.865112Z",
     "shell.execute_reply": "2024-05-26T15:31:15.864102Z"
    },
    "papermill": {
     "duration": 1.199224,
     "end_time": "2024-05-26T15:31:15.867486",
     "exception": false,
     "start_time": "2024-05-26T15:31:14.668262",
     "status": "completed"
    },
    "tags": []
   },
   "outputs": [
    {
     "data": {
      "text/html": [
       "<style>#sk-container-id-2 {color: black;background-color: white;}#sk-container-id-2 pre{padding: 0;}#sk-container-id-2 div.sk-toggleable {background-color: white;}#sk-container-id-2 label.sk-toggleable__label {cursor: pointer;display: block;width: 100%;margin-bottom: 0;padding: 0.3em;box-sizing: border-box;text-align: center;}#sk-container-id-2 label.sk-toggleable__label-arrow:before {content: \"▸\";float: left;margin-right: 0.25em;color: #696969;}#sk-container-id-2 label.sk-toggleable__label-arrow:hover:before {color: black;}#sk-container-id-2 div.sk-estimator:hover label.sk-toggleable__label-arrow:before {color: black;}#sk-container-id-2 div.sk-toggleable__content {max-height: 0;max-width: 0;overflow: hidden;text-align: left;background-color: #f0f8ff;}#sk-container-id-2 div.sk-toggleable__content pre {margin: 0.2em;color: black;border-radius: 0.25em;background-color: #f0f8ff;}#sk-container-id-2 input.sk-toggleable__control:checked~div.sk-toggleable__content {max-height: 200px;max-width: 100%;overflow: auto;}#sk-container-id-2 input.sk-toggleable__control:checked~label.sk-toggleable__label-arrow:before {content: \"▾\";}#sk-container-id-2 div.sk-estimator input.sk-toggleable__control:checked~label.sk-toggleable__label {background-color: #d4ebff;}#sk-container-id-2 div.sk-label input.sk-toggleable__control:checked~label.sk-toggleable__label {background-color: #d4ebff;}#sk-container-id-2 input.sk-hidden--visually {border: 0;clip: rect(1px 1px 1px 1px);clip: rect(1px, 1px, 1px, 1px);height: 1px;margin: -1px;overflow: hidden;padding: 0;position: absolute;width: 1px;}#sk-container-id-2 div.sk-estimator {font-family: monospace;background-color: #f0f8ff;border: 1px dotted black;border-radius: 0.25em;box-sizing: border-box;margin-bottom: 0.5em;}#sk-container-id-2 div.sk-estimator:hover {background-color: #d4ebff;}#sk-container-id-2 div.sk-parallel-item::after {content: \"\";width: 100%;border-bottom: 1px solid gray;flex-grow: 1;}#sk-container-id-2 div.sk-label:hover label.sk-toggleable__label {background-color: #d4ebff;}#sk-container-id-2 div.sk-serial::before {content: \"\";position: absolute;border-left: 1px solid gray;box-sizing: border-box;top: 0;bottom: 0;left: 50%;z-index: 0;}#sk-container-id-2 div.sk-serial {display: flex;flex-direction: column;align-items: center;background-color: white;padding-right: 0.2em;padding-left: 0.2em;position: relative;}#sk-container-id-2 div.sk-item {position: relative;z-index: 1;}#sk-container-id-2 div.sk-parallel {display: flex;align-items: stretch;justify-content: center;background-color: white;position: relative;}#sk-container-id-2 div.sk-item::before, #sk-container-id-2 div.sk-parallel-item::before {content: \"\";position: absolute;border-left: 1px solid gray;box-sizing: border-box;top: 0;bottom: 0;left: 50%;z-index: -1;}#sk-container-id-2 div.sk-parallel-item {display: flex;flex-direction: column;z-index: 1;position: relative;background-color: white;}#sk-container-id-2 div.sk-parallel-item:first-child::after {align-self: flex-end;width: 50%;}#sk-container-id-2 div.sk-parallel-item:last-child::after {align-self: flex-start;width: 50%;}#sk-container-id-2 div.sk-parallel-item:only-child::after {width: 0;}#sk-container-id-2 div.sk-dashed-wrapped {border: 1px dashed gray;margin: 0 0.4em 0.5em 0.4em;box-sizing: border-box;padding-bottom: 0.4em;background-color: white;}#sk-container-id-2 div.sk-label label {font-family: monospace;font-weight: bold;display: inline-block;line-height: 1.2em;}#sk-container-id-2 div.sk-label-container {text-align: center;}#sk-container-id-2 div.sk-container {/* jupyter's `normalize.less` sets `[hidden] { display: none; }` but bootstrap.min.css set `[hidden] { display: none !important; }` so we also need the `!important` here to be able to override the default hidden behavior on the sphinx rendered scikit-learn.org. See: https://github.com/scikit-learn/scikit-learn/issues/21755 */display: inline-block !important;position: relative;}#sk-container-id-2 div.sk-text-repr-fallback {display: none;}</style><div id=\"sk-container-id-2\" class=\"sk-top-container\"><div class=\"sk-text-repr-fallback\"><pre>SVC(degree=6, kernel=&#x27;poly&#x27;)</pre><b>In a Jupyter environment, please rerun this cell to show the HTML representation or trust the notebook. <br />On GitHub, the HTML representation is unable to render, please try loading this page with nbviewer.org.</b></div><div class=\"sk-container\" hidden><div class=\"sk-item\"><div class=\"sk-estimator sk-toggleable\"><input class=\"sk-toggleable__control sk-hidden--visually\" id=\"sk-estimator-id-2\" type=\"checkbox\" checked><label for=\"sk-estimator-id-2\" class=\"sk-toggleable__label sk-toggleable__label-arrow\">SVC</label><div class=\"sk-toggleable__content\"><pre>SVC(degree=6, kernel=&#x27;poly&#x27;)</pre></div></div></div></div></div>"
      ],
      "text/plain": [
       "SVC(degree=6, kernel='poly')"
      ]
     },
     "execution_count": 13,
     "metadata": {},
     "output_type": "execute_result"
    }
   ],
   "source": [
    "from sklearn import svm\n",
    "\n",
    "model_svm = svm.SVC(kernel='poly',degree=6)\n",
    "model_svm.fit(x_train,y_train)"
   ]
  },
  {
   "cell_type": "code",
   "execution_count": 14,
   "id": "f182622d",
   "metadata": {
    "execution": {
     "iopub.execute_input": "2024-05-26T15:31:15.884861Z",
     "iopub.status.busy": "2024-05-26T15:31:15.884473Z",
     "iopub.status.idle": "2024-05-26T15:31:16.130865Z",
     "shell.execute_reply": "2024-05-26T15:31:16.129691Z"
    },
    "papermill": {
     "duration": 0.257899,
     "end_time": "2024-05-26T15:31:16.133210",
     "exception": false,
     "start_time": "2024-05-26T15:31:15.875311",
     "status": "completed"
    },
    "tags": []
   },
   "outputs": [
    {
     "name": "stdout",
     "output_type": "stream",
     "text": [
      "Accuracy score for SVM Model is --> 0.7883435582822086 \n"
     ]
    }
   ],
   "source": [
    "pred_svm = model_svm.predict(x_test)\n",
    "acc_svm = accuracy_score(y_true=y_test , y_pred=pred_svm)\n",
    "print(f\"Accuracy score for SVM Model is --> {acc_svm} \")"
   ]
  },
  {
   "cell_type": "markdown",
   "id": "4f4df92c",
   "metadata": {
    "papermill": {
     "duration": 0.007636,
     "end_time": "2024-05-26T15:31:16.148826",
     "exception": false,
     "start_time": "2024-05-26T15:31:16.141190",
     "status": "completed"
    },
    "tags": []
   },
   "source": [
    "**accuracy score with other model :**\n",
    "\n",
    "* DecisionForest = 0.7615030674846626\n",
    "* SVM = 0.785659509202454\n",
    "* K_Neighbors = 0.7841257668711656\n",
    "* GaussianNB = 0.5881901840490797"
   ]
  },
  {
   "cell_type": "markdown",
   "id": "63e6ef4a",
   "metadata": {
    "papermill": {
     "duration": 0.007577,
     "end_time": "2024-05-26T15:31:16.164424",
     "exception": false,
     "start_time": "2024-05-26T15:31:16.156847",
     "status": "completed"
    },
    "tags": []
   },
   "source": [
    "# **Load Main data for predict**"
   ]
  },
  {
   "cell_type": "code",
   "execution_count": 15,
   "id": "6177bf6b",
   "metadata": {
    "execution": {
     "iopub.execute_input": "2024-05-26T15:31:16.182384Z",
     "iopub.status.busy": "2024-05-26T15:31:16.181390Z",
     "iopub.status.idle": "2024-05-26T15:31:16.223691Z",
     "shell.execute_reply": "2024-05-26T15:31:16.222611Z"
    },
    "papermill": {
     "duration": 0.053764,
     "end_time": "2024-05-26T15:31:16.226103",
     "exception": false,
     "start_time": "2024-05-26T15:31:16.172339",
     "status": "completed"
    },
    "tags": []
   },
   "outputs": [
    {
     "data": {
      "text/html": [
       "<div>\n",
       "<style scoped>\n",
       "    .dataframe tbody tr th:only-of-type {\n",
       "        vertical-align: middle;\n",
       "    }\n",
       "\n",
       "    .dataframe tbody tr th {\n",
       "        vertical-align: top;\n",
       "    }\n",
       "\n",
       "    .dataframe thead th {\n",
       "        text-align: right;\n",
       "    }\n",
       "</style>\n",
       "<table border=\"1\" class=\"dataframe\">\n",
       "  <thead>\n",
       "    <tr style=\"text-align: right;\">\n",
       "      <th></th>\n",
       "      <th>PassengerId</th>\n",
       "      <th>HomePlanet</th>\n",
       "      <th>CryoSleep</th>\n",
       "      <th>Cabin</th>\n",
       "      <th>Destination</th>\n",
       "      <th>Age</th>\n",
       "      <th>VIP</th>\n",
       "      <th>RoomService</th>\n",
       "      <th>FoodCourt</th>\n",
       "      <th>ShoppingMall</th>\n",
       "      <th>Spa</th>\n",
       "      <th>VRDeck</th>\n",
       "      <th>Name</th>\n",
       "    </tr>\n",
       "  </thead>\n",
       "  <tbody>\n",
       "    <tr>\n",
       "      <th>0</th>\n",
       "      <td>0013_01</td>\n",
       "      <td>Earth</td>\n",
       "      <td>True</td>\n",
       "      <td>G/3/S</td>\n",
       "      <td>TRAPPIST-1e</td>\n",
       "      <td>27.0</td>\n",
       "      <td>False</td>\n",
       "      <td>0.0</td>\n",
       "      <td>0.0</td>\n",
       "      <td>0.0</td>\n",
       "      <td>0.0</td>\n",
       "      <td>0.0</td>\n",
       "      <td>Nelly Carsoning</td>\n",
       "    </tr>\n",
       "    <tr>\n",
       "      <th>1</th>\n",
       "      <td>0018_01</td>\n",
       "      <td>Earth</td>\n",
       "      <td>False</td>\n",
       "      <td>F/4/S</td>\n",
       "      <td>TRAPPIST-1e</td>\n",
       "      <td>19.0</td>\n",
       "      <td>False</td>\n",
       "      <td>0.0</td>\n",
       "      <td>9.0</td>\n",
       "      <td>0.0</td>\n",
       "      <td>2823.0</td>\n",
       "      <td>0.0</td>\n",
       "      <td>Lerome Peckers</td>\n",
       "    </tr>\n",
       "    <tr>\n",
       "      <th>2</th>\n",
       "      <td>0019_01</td>\n",
       "      <td>Europa</td>\n",
       "      <td>True</td>\n",
       "      <td>C/0/S</td>\n",
       "      <td>55 Cancri e</td>\n",
       "      <td>31.0</td>\n",
       "      <td>False</td>\n",
       "      <td>0.0</td>\n",
       "      <td>0.0</td>\n",
       "      <td>0.0</td>\n",
       "      <td>0.0</td>\n",
       "      <td>0.0</td>\n",
       "      <td>Sabih Unhearfus</td>\n",
       "    </tr>\n",
       "    <tr>\n",
       "      <th>3</th>\n",
       "      <td>0021_01</td>\n",
       "      <td>Europa</td>\n",
       "      <td>False</td>\n",
       "      <td>C/1/S</td>\n",
       "      <td>TRAPPIST-1e</td>\n",
       "      <td>38.0</td>\n",
       "      <td>False</td>\n",
       "      <td>0.0</td>\n",
       "      <td>6652.0</td>\n",
       "      <td>0.0</td>\n",
       "      <td>181.0</td>\n",
       "      <td>585.0</td>\n",
       "      <td>Meratz Caltilter</td>\n",
       "    </tr>\n",
       "    <tr>\n",
       "      <th>4</th>\n",
       "      <td>0023_01</td>\n",
       "      <td>Earth</td>\n",
       "      <td>False</td>\n",
       "      <td>F/5/S</td>\n",
       "      <td>TRAPPIST-1e</td>\n",
       "      <td>20.0</td>\n",
       "      <td>False</td>\n",
       "      <td>10.0</td>\n",
       "      <td>0.0</td>\n",
       "      <td>635.0</td>\n",
       "      <td>0.0</td>\n",
       "      <td>0.0</td>\n",
       "      <td>Brence Harperez</td>\n",
       "    </tr>\n",
       "  </tbody>\n",
       "</table>\n",
       "</div>"
      ],
      "text/plain": [
       "  PassengerId HomePlanet CryoSleep  Cabin  Destination   Age    VIP  \\\n",
       "0     0013_01      Earth      True  G/3/S  TRAPPIST-1e  27.0  False   \n",
       "1     0018_01      Earth     False  F/4/S  TRAPPIST-1e  19.0  False   \n",
       "2     0019_01     Europa      True  C/0/S  55 Cancri e  31.0  False   \n",
       "3     0021_01     Europa     False  C/1/S  TRAPPIST-1e  38.0  False   \n",
       "4     0023_01      Earth     False  F/5/S  TRAPPIST-1e  20.0  False   \n",
       "\n",
       "   RoomService  FoodCourt  ShoppingMall     Spa  VRDeck              Name  \n",
       "0          0.0        0.0           0.0     0.0     0.0   Nelly Carsoning  \n",
       "1          0.0        9.0           0.0  2823.0     0.0    Lerome Peckers  \n",
       "2          0.0        0.0           0.0     0.0     0.0   Sabih Unhearfus  \n",
       "3          0.0     6652.0           0.0   181.0   585.0  Meratz Caltilter  \n",
       "4         10.0        0.0         635.0     0.0     0.0   Brence Harperez  "
      ]
     },
     "execution_count": 15,
     "metadata": {},
     "output_type": "execute_result"
    }
   ],
   "source": [
    "df_main = pd.read_csv('/kaggle/input/spaceship-titanic/test.csv')\n",
    "df_main.head()"
   ]
  },
  {
   "cell_type": "code",
   "execution_count": 16,
   "id": "5c1b5f30",
   "metadata": {
    "execution": {
     "iopub.execute_input": "2024-05-26T15:31:16.245017Z",
     "iopub.status.busy": "2024-05-26T15:31:16.244617Z",
     "iopub.status.idle": "2024-05-26T15:31:16.264448Z",
     "shell.execute_reply": "2024-05-26T15:31:16.263358Z"
    },
    "papermill": {
     "duration": 0.032498,
     "end_time": "2024-05-26T15:31:16.267181",
     "exception": false,
     "start_time": "2024-05-26T15:31:16.234683",
     "status": "completed"
    },
    "tags": []
   },
   "outputs": [],
   "source": [
    "PassengerId = df_main['PassengerId'] #Separation of PassengerId from other data \n",
    "\n",
    "df_main = df_main.drop(labels=['PassengerId','Name'],axis='columns')\n",
    "\n",
    "df_num_ = df_main.select_dtypes(include='float64')\n",
    "df_num_ = df_num.fillna(0)\n",
    "df_obj_ = df_main.select_dtypes(include='O')\n",
    "df_obj_ = df_obj.apply(le.fit_transform)\n",
    "df = pd.concat([df_num_,df_obj_],axis='columns')\n",
    "scaler = Normalizer()\n",
    "\n",
    "main_data = scaler.fit_transform(df)"
   ]
  },
  {
   "cell_type": "markdown",
   "id": "d2ac23bf",
   "metadata": {
    "papermill": {
     "duration": 0.00793,
     "end_time": "2024-05-26T15:31:16.283833",
     "exception": false,
     "start_time": "2024-05-26T15:31:16.275903",
     "status": "completed"
    },
    "tags": []
   },
   "source": [
    "**Pridict Main Data**"
   ]
  },
  {
   "cell_type": "code",
   "execution_count": 17,
   "id": "89727e84",
   "metadata": {
    "_kg_hide-input": true,
    "_kg_hide-output": true,
    "execution": {
     "iopub.execute_input": "2024-05-26T15:31:16.301989Z",
     "iopub.status.busy": "2024-05-26T15:31:16.301637Z",
     "iopub.status.idle": "2024-05-26T15:31:16.318101Z",
     "shell.execute_reply": "2024-05-26T15:31:16.317045Z"
    },
    "papermill": {
     "duration": 0.028362,
     "end_time": "2024-05-26T15:31:16.320339",
     "exception": false,
     "start_time": "2024-05-26T15:31:16.291977",
     "status": "completed"
    },
    "tags": []
   },
   "outputs": [
    {
     "data": {
      "text/html": [
       "<div>\n",
       "<style scoped>\n",
       "    .dataframe tbody tr th:only-of-type {\n",
       "        vertical-align: middle;\n",
       "    }\n",
       "\n",
       "    .dataframe tbody tr th {\n",
       "        vertical-align: top;\n",
       "    }\n",
       "\n",
       "    .dataframe thead th {\n",
       "        text-align: right;\n",
       "    }\n",
       "</style>\n",
       "<table border=\"1\" class=\"dataframe\">\n",
       "  <thead>\n",
       "    <tr style=\"text-align: right;\">\n",
       "      <th></th>\n",
       "      <th>PassengerId</th>\n",
       "      <th>Transported</th>\n",
       "    </tr>\n",
       "  </thead>\n",
       "  <tbody>\n",
       "    <tr>\n",
       "      <th>0</th>\n",
       "      <td>0013_01</td>\n",
       "      <td>True</td>\n",
       "    </tr>\n",
       "    <tr>\n",
       "      <th>1</th>\n",
       "      <td>0018_01</td>\n",
       "      <td>False</td>\n",
       "    </tr>\n",
       "    <tr>\n",
       "      <th>2</th>\n",
       "      <td>0019_01</td>\n",
       "      <td>False</td>\n",
       "    </tr>\n",
       "    <tr>\n",
       "      <th>3</th>\n",
       "      <td>0021_01</td>\n",
       "      <td>False</td>\n",
       "    </tr>\n",
       "    <tr>\n",
       "      <th>4</th>\n",
       "      <td>0023_01</td>\n",
       "      <td>False</td>\n",
       "    </tr>\n",
       "  </tbody>\n",
       "</table>\n",
       "</div>"
      ],
      "text/plain": [
       "  PassengerId  Transported\n",
       "0     0013_01         True\n",
       "1     0018_01        False\n",
       "2     0019_01        False\n",
       "3     0021_01        False\n",
       "4     0023_01        False"
      ]
     },
     "execution_count": 17,
     "metadata": {},
     "output_type": "execute_result"
    }
   ],
   "source": [
    "pred_dtree = model_tree.predict(main_data)\n",
    "\n",
    "pred_dtree = pd.DataFrame({'Transported':pred_dtree})\n",
    "\n",
    "pred_dtree = pred_dtree['Transported'].map({1:True,0:False}) #convert 0,1 to Boolean value\n",
    "\n",
    "pred_dtree = pd.DataFrame({'PassengerId':PassengerId,'Transported':pred_dtree})\n",
    "\n",
    "pred_dtree.head()         "
   ]
  },
  {
   "cell_type": "code",
   "execution_count": 18,
   "id": "221d18ab",
   "metadata": {
    "execution": {
     "iopub.execute_input": "2024-05-26T15:31:16.339393Z",
     "iopub.status.busy": "2024-05-26T15:31:16.339040Z",
     "iopub.status.idle": "2024-05-26T15:31:17.146344Z",
     "shell.execute_reply": "2024-05-26T15:31:17.145273Z"
    },
    "papermill": {
     "duration": 0.819534,
     "end_time": "2024-05-26T15:31:17.148695",
     "exception": false,
     "start_time": "2024-05-26T15:31:16.329161",
     "status": "completed"
    },
    "tags": []
   },
   "outputs": [
    {
     "data": {
      "text/html": [
       "<div>\n",
       "<style scoped>\n",
       "    .dataframe tbody tr th:only-of-type {\n",
       "        vertical-align: middle;\n",
       "    }\n",
       "\n",
       "    .dataframe tbody tr th {\n",
       "        vertical-align: top;\n",
       "    }\n",
       "\n",
       "    .dataframe thead th {\n",
       "        text-align: right;\n",
       "    }\n",
       "</style>\n",
       "<table border=\"1\" class=\"dataframe\">\n",
       "  <thead>\n",
       "    <tr style=\"text-align: right;\">\n",
       "      <th></th>\n",
       "      <th>PassengerId</th>\n",
       "      <th>Transported</th>\n",
       "    </tr>\n",
       "  </thead>\n",
       "  <tbody>\n",
       "    <tr>\n",
       "      <th>0</th>\n",
       "      <td>0013_01</td>\n",
       "      <td>True</td>\n",
       "    </tr>\n",
       "    <tr>\n",
       "      <th>1</th>\n",
       "      <td>0018_01</td>\n",
       "      <td>False</td>\n",
       "    </tr>\n",
       "    <tr>\n",
       "      <th>2</th>\n",
       "      <td>0019_01</td>\n",
       "      <td>False</td>\n",
       "    </tr>\n",
       "    <tr>\n",
       "      <th>3</th>\n",
       "      <td>0021_01</td>\n",
       "      <td>False</td>\n",
       "    </tr>\n",
       "    <tr>\n",
       "      <th>4</th>\n",
       "      <td>0023_01</td>\n",
       "      <td>False</td>\n",
       "    </tr>\n",
       "  </tbody>\n",
       "</table>\n",
       "</div>"
      ],
      "text/plain": [
       "  PassengerId  Transported\n",
       "0     0013_01         True\n",
       "1     0018_01        False\n",
       "2     0019_01        False\n",
       "3     0021_01        False\n",
       "4     0023_01        False"
      ]
     },
     "execution_count": 18,
     "metadata": {},
     "output_type": "execute_result"
    }
   ],
   "source": [
    "pred_svm = model_svm.predict(main_data)\n",
    "\n",
    "pred_svm = pd.DataFrame({'Transported':pred_svm})\n",
    "\n",
    "pred_svm = pred_svm['Transported'].map({1:True,0:False}) #convert 0,1 to Boolean value\n",
    "\n",
    "pred_svm = pd.DataFrame({'PassengerId':PassengerId,'Transported':pred_svm})\n",
    "\n",
    "pred_svm.head()    "
   ]
  },
  {
   "cell_type": "code",
   "execution_count": 19,
   "id": "4ee2121e",
   "metadata": {
    "execution": {
     "iopub.execute_input": "2024-05-26T15:31:17.167684Z",
     "iopub.status.busy": "2024-05-26T15:31:17.167295Z",
     "iopub.status.idle": "2024-05-26T15:31:17.180792Z",
     "shell.execute_reply": "2024-05-26T15:31:17.179934Z"
    },
    "papermill": {
     "duration": 0.025811,
     "end_time": "2024-05-26T15:31:17.183176",
     "exception": false,
     "start_time": "2024-05-26T15:31:17.157365",
     "status": "completed"
    },
    "tags": []
   },
   "outputs": [],
   "source": [
    "pred_svm.to_csv('submission_SVM.csv',index=False)"
   ]
  }
 ],
 "metadata": {
  "kaggle": {
   "accelerator": "none",
   "dataSources": [
    {
     "databundleVersionId": 3220602,
     "sourceId": 34377,
     "sourceType": "competition"
    }
   ],
   "dockerImageVersionId": 30698,
   "isGpuEnabled": false,
   "isInternetEnabled": false,
   "language": "python",
   "sourceType": "notebook"
  },
  "kernelspec": {
   "display_name": "Python 3",
   "language": "python",
   "name": "python3"
  },
  "language_info": {
   "codemirror_mode": {
    "name": "ipython",
    "version": 3
   },
   "file_extension": ".py",
   "mimetype": "text/x-python",
   "name": "python",
   "nbconvert_exporter": "python",
   "pygments_lexer": "ipython3",
   "version": "3.10.13"
  },
  "papermill": {
   "default_parameters": {},
   "duration": 8.535139,
   "end_time": "2024-05-26T15:31:17.812227",
   "environment_variables": {},
   "exception": null,
   "input_path": "__notebook__.ipynb",
   "output_path": "__notebook__.ipynb",
   "parameters": {},
   "start_time": "2024-05-26T15:31:09.277088",
   "version": "2.5.0"
  }
 },
 "nbformat": 4,
 "nbformat_minor": 5
}
